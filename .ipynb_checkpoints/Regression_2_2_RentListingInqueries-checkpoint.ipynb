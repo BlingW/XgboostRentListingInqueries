{
 "cells": [
  {
   "cell_type": "code",
   "execution_count": 1,
   "metadata": {},
   "outputs": [
    {
     "name": "stderr",
     "output_type": "stream",
     "text": [
      "/Users/randy/anaconda3/lib/python3.6/site-packages/sklearn/cross_validation.py:41: DeprecationWarning: This module was deprecated in version 0.18 in favor of the model_selection module into which all the refactored classes and functions are moved. Also note that the interface of the new CV iterators are different from that of this module. This module will be removed in 0.20.\n",
      "  \"This module will be removed in 0.20.\", DeprecationWarning)\n"
     ]
    }
   ],
   "source": [
    "# import必要的包\n",
    "import numpy as np\n",
    "import pandas as pd\n",
    "\n",
    "import matplotlib.pyplot as plt\n",
    "import seaborn as sns\n",
    "%matplotlib inline\n",
    "\n",
    "from sklearn.model_selection import GridSearchCV\n",
    "from sklearn.model_selection import StratifiedKFold\n",
    "from sklearn.metrics import log_loss\n",
    "\n",
    "from xgboost import XGBClassifier\n",
    "import xgboost as xgb"
   ]
  },
  {
   "cell_type": "code",
   "execution_count": 2,
   "metadata": {
    "collapsed": true
   },
   "outputs": [],
   "source": [
    "# 读数据\n",
    "train = pd.read_csv('./data/RentListingInquries_FE_train.csv')\n",
    "test = pd.read_csv('./data/RentListingInquries_FE_test.csv')"
   ]
  },
  {
   "cell_type": "code",
   "execution_count": 3,
   "metadata": {
    "collapsed": true
   },
   "outputs": [],
   "source": [
    "y_train = train.interest_level\n",
    "X_train = train.drop(\"interest_level\", axis=1)"
   ]
  },
  {
   "cell_type": "markdown",
   "metadata": {},
   "source": [
    "# 第二步2：调整树的参数：max_depth & min_child_weight\n",
    "(精调，参数的步长为1)"
   ]
  },
  {
   "cell_type": "code",
   "execution_count": 5,
   "metadata": {},
   "outputs": [
    {
     "data": {
      "text/plain": [
       "{'max_depth': [4, 5, 6], 'min_child_weight': [5, 6, 7]}"
      ]
     },
     "execution_count": 5,
     "metadata": {},
     "output_type": "execute_result"
    }
   ],
   "source": [
    "# 定义GridSearchCV要搜索的参数\n",
    "# 上一步是看到max_depth在5附近就是最好的了，下一步可以在5周围再找找点\n",
    "# 而min_child_weight还可以往上再走一下\n",
    "max_depth = [4,5,6]\n",
    "min_child_weight = [5,6,7]\n",
    "params_2_2 = {\n",
    "    \"max_depth\" : max_depth,\n",
    "    \"min_child_weight\" : min_child_weight\n",
    "}\n",
    "params_2_2"
   ]
  },
  {
   "cell_type": "code",
   "execution_count": 7,
   "metadata": {},
   "outputs": [
    {
     "name": "stderr",
     "output_type": "stream",
     "text": [
      "/Users/randy/anaconda3/lib/python3.6/site-packages/sklearn/model_selection/_search.py:761: DeprecationWarning: The grid_scores_ attribute was deprecated in version 0.18 in favor of the more elaborate cv_results_ attribute. The grid_scores_ attribute will not be available from 0.20\n",
      "  DeprecationWarning)\n"
     ]
    },
    {
     "data": {
      "text/plain": [
       "([mean: -0.59204, std: 0.00427, params: {'max_depth': 4, 'min_child_weight': 5},\n",
       "  mean: -0.59153, std: 0.00423, params: {'max_depth': 4, 'min_child_weight': 6},\n",
       "  mean: -0.59136, std: 0.00405, params: {'max_depth': 4, 'min_child_weight': 7},\n",
       "  mean: -0.58846, std: 0.00312, params: {'max_depth': 5, 'min_child_weight': 5},\n",
       "  mean: -0.58960, std: 0.00350, params: {'max_depth': 5, 'min_child_weight': 6},\n",
       "  mean: -0.58852, std: 0.00363, params: {'max_depth': 5, 'min_child_weight': 7},\n",
       "  mean: -0.58903, std: 0.00374, params: {'max_depth': 6, 'min_child_weight': 5},\n",
       "  mean: -0.58853, std: 0.00339, params: {'max_depth': 6, 'min_child_weight': 6},\n",
       "  mean: -0.58850, std: 0.00387, params: {'max_depth': 6, 'min_child_weight': 7}],\n",
       " {'max_depth': 5, 'min_child_weight': 5},\n",
       " -0.58845569521075314)"
      ]
     },
     "execution_count": 7,
     "metadata": {},
     "output_type": "execute_result"
    }
   ],
   "source": [
    "kfold = StratifiedKFold(n_splits=5, shuffle=True, random_state=3)\n",
    "\n",
    "xgb_2_2 = XGBClassifier(\n",
    "        learning_rate =0.1,\n",
    "        n_estimators=272,  #第一轮参数调整得到的n_estimators最优值\n",
    "        max_depth=5,\n",
    "        min_child_weight=1,\n",
    "        gamma=0,\n",
    "        subsample=0.3,\n",
    "        colsample_bytree=0.8,\n",
    "        colsample_bylevel=0.7,\n",
    "        objective= 'multi:softprob',\n",
    "        seed=3)\n",
    "\n",
    "\n",
    "g_search_2_2 = GridSearchCV(xgb_2_2, param_grid = params_2_2, scoring='neg_log_loss',n_jobs=-1, cv=kfold)\n",
    "g_search_2_2.fit(X_train , y_train)\n",
    "\n",
    "g_search_2_2.grid_scores_, g_search_2_2.best_params_,     g_search_2_2.best_score_"
   ]
  },
  {
   "cell_type": "markdown",
   "metadata": {},
   "source": [
    "可以看到还是在[5,5]节点的时候损失最小，于是我们将[5,5]作为定好的参数继续做其他参数的调参"
   ]
  },
  {
   "cell_type": "code",
   "execution_count": 11,
   "metadata": {},
   "outputs": [
    {
     "name": "stdout",
     "output_type": "stream",
     "text": [
      "Best: -0.588456 using {'max_depth': 5, 'min_child_weight': 5}\n"
     ]
    },
    {
     "name": "stderr",
     "output_type": "stream",
     "text": [
      "/Users/randy/anaconda3/lib/python3.6/site-packages/sklearn/utils/deprecation.py:122: FutureWarning: You are accessing a training score ('mean_train_score'), which will not be available by default any more in 0.21. If you need training scores, please set return_train_score=True\n",
      "  warnings.warn(*warn_args, **warn_kwargs)\n",
      "/Users/randy/anaconda3/lib/python3.6/site-packages/sklearn/utils/deprecation.py:122: FutureWarning: You are accessing a training score ('std_train_score'), which will not be available by default any more in 0.21. If you need training scores, please set return_train_score=True\n",
      "  warnings.warn(*warn_args, **warn_kwargs)\n",
      "/Users/randy/anaconda3/lib/python3.6/site-packages/sklearn/utils/deprecation.py:122: FutureWarning: You are accessing a training score ('split0_train_score'), which will not be available by default any more in 0.21. If you need training scores, please set return_train_score=True\n",
      "  warnings.warn(*warn_args, **warn_kwargs)\n",
      "/Users/randy/anaconda3/lib/python3.6/site-packages/sklearn/utils/deprecation.py:122: FutureWarning: You are accessing a training score ('split1_train_score'), which will not be available by default any more in 0.21. If you need training scores, please set return_train_score=True\n",
      "  warnings.warn(*warn_args, **warn_kwargs)\n",
      "/Users/randy/anaconda3/lib/python3.6/site-packages/sklearn/utils/deprecation.py:122: FutureWarning: You are accessing a training score ('split2_train_score'), which will not be available by default any more in 0.21. If you need training scores, please set return_train_score=True\n",
      "  warnings.warn(*warn_args, **warn_kwargs)\n",
      "/Users/randy/anaconda3/lib/python3.6/site-packages/sklearn/utils/deprecation.py:122: FutureWarning: You are accessing a training score ('split3_train_score'), which will not be available by default any more in 0.21. If you need training scores, please set return_train_score=True\n",
      "  warnings.warn(*warn_args, **warn_kwargs)\n",
      "/Users/randy/anaconda3/lib/python3.6/site-packages/sklearn/utils/deprecation.py:122: FutureWarning: You are accessing a training score ('split4_train_score'), which will not be available by default any more in 0.21. If you need training scores, please set return_train_score=True\n",
      "  warnings.warn(*warn_args, **warn_kwargs)\n"
     ]
    },
    {
     "data": {
      "image/png": "[encoded data removed]",
      "text/plain": [
       "<matplotlib.figure.Figure at 0x1a157d7908>"
      ]
     },
     "metadata": {},
     "output_type": "display_data"
    }
   ],
   "source": [
    "# summarize results\n",
    "print(\"Best: %f using %s\" % (g_search_2_2.best_score_, g_search_2_2.best_params_))\n",
    "test_means = g_search_2_2.cv_results_[ 'mean_test_score' ]\n",
    "test_stds = g_search_2_2.cv_results_[ 'std_test_score' ]\n",
    "train_means = g_search_2_2.cv_results_[ 'mean_train_score' ]\n",
    "train_stds = g_search_2_2.cv_results_[ 'std_train_score' ]\n",
    "\n",
    "pd.DataFrame(g_search_2_2.cv_results_).to_csv('maxdepth_min_child_weights_2.csv')\n",
    "\n",
    "# plot results\n",
    "test_scores = np.array(test_means).reshape(len(min_child_weight), len(max_depth))\n",
    "train_scores = np.array(train_means).reshape(len(min_child_weight), len(max_depth))\n",
    "\n",
    "for i, value in enumerate(min_child_weight):\n",
    "    plt.plot(max_depth, -test_scores[i], label= 'test_min_child_weight:'   + str(value))\n",
    "\n",
    "sns.set()\n",
    "plt.legend()\n",
    "plt.xlabel( 'max_depth' )                                                                                                      \n",
    "plt.ylabel( 'Log Loss' )\n",
    "plt.savefig( 'max_depth_vs_min_child_weght.png' )"
   ]
  },
  {
   "cell_type": "code",
   "execution_count": null,
   "metadata": {
    "collapsed": true
   },
   "outputs": [],
   "source": []
  }
 ],
 "metadata": {
  "kernelspec": {
   "display_name": "Python 3",
   "language": "python",
   "name": "python3"
  },
  "language_info": {
   "codemirror_mode": {
    "name": "ipython",
    "version": 3
   },
   "file_extension": ".py",
   "mimetype": "text/x-python",
   "name": "python",
   "nbconvert_exporter": "python",
   "pygments_lexer": "ipython3",
   "version": "3.6.3"
  }
 },
 "nbformat": 4,
 "nbformat_minor": 2
}
