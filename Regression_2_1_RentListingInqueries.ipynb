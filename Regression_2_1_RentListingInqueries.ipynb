{
 "cells": [
  {
   "cell_type": "code",
   "execution_count": 1,
   "metadata": {},
   "outputs": [
    {
     "name": "stderr",
     "output_type": "stream",
     "text": [
      "/Users/randy/anaconda3/lib/python3.6/site-packages/sklearn/cross_validation.py:41: DeprecationWarning: This module was deprecated in version 0.18 in favor of the model_selection module into which all the refactored classes and functions are moved. Also note that the interface of the new CV iterators are different from that of this module. This module will be removed in 0.20.\n",
      "  \"This module will be removed in 0.20.\", DeprecationWarning)\n"
     ]
    }
   ],
   "source": [
    "# import必要的包\n",
    "import numpy as np\n",
    "import pandas as pd\n",
    "\n",
    "import matplotlib.pyplot as plt\n",
    "import seaborn as sns\n",
    "%matplotlib inline\n",
    "\n",
    "from sklearn.model_selection import GridSearchCV\n",
    "from sklearn.model_selection import StratifiedKFold\n",
    "from sklearn.metrics import log_loss\n",
    "\n",
    "from xgboost import XGBClassifier\n",
    "import xgboost as xgb"
   ]
  },
  {
   "cell_type": "code",
   "execution_count": 2,
   "metadata": {
    "collapsed": true
   },
   "outputs": [],
   "source": [
    "# 读数据\n",
    "train = pd.read_csv('./data/RentListingInquries_FE_train.csv')\n",
    "test = pd.read_csv('./data/RentListingInquries_FE_test.csv')"
   ]
  },
  {
   "cell_type": "code",
   "execution_count": 3,
   "metadata": {
    "collapsed": true
   },
   "outputs": [],
   "source": [
    "y_train = train.interest_level\n",
    "X_train = train.drop(\"interest_level\", axis=1)"
   ]
  },
  {
   "cell_type": "markdown",
   "metadata": {
    "collapsed": true
   },
   "source": [
    "# 第二步：调整树的参数：max_depth & min_child_weight\n",
    "(粗调，参数的步长为2；下一步是在粗调最佳参数周围，将步长降为1，进行精细调整)"
   ]
  },
  {
   "cell_type": "markdown",
   "metadata": {},
   "source": [
    "第一轮参数调整得到的n_estimators最优值（272），其余参数继续默认值"
   ]
  },
  {
   "cell_type": "markdown",
   "metadata": {},
   "source": [
    "用交叉验证评价模型性能时，用scoring参数定义评价指标。评价指标是越高越好，因此用一些损失函数当评价指标时，需要再加负号，如neg_log_loss，neg_mean_squared_error 详见sklearn文档：http://scikit-learn.org/stable/modules/model_evaluation.html#log-loss"
   ]
  },
  {
   "cell_type": "code",
   "execution_count": 4,
   "metadata": {},
   "outputs": [
    {
     "data": {
      "text/plain": [
       "{'max_depth': range(3, 10, 2), 'min_child_weight': range(1, 6, 2)}"
      ]
     },
     "execution_count": 4,
     "metadata": {},
     "output_type": "execute_result"
    }
   ],
   "source": [
    "# 定义GridSearchCV要搜索的参数\n",
    "# #max_depth 建议3-10， min_child_weight=1／sqrt(ratio_rare_event) =5.5\n",
    "max_depth = range(3,10,2)\n",
    "min_child_weight = range(1,6,2)\n",
    "params_2_1 = {\n",
    "    \"max_depth\" : max_depth,\n",
    "    \"min_child_weight\" : min_child_weight\n",
    "}\n",
    "params_2_1"
   ]
  },
  {
   "cell_type": "code",
   "execution_count": 5,
   "metadata": {
    "collapsed": true
   },
   "outputs": [],
   "source": [
    "kfold = StratifiedKFold(n_splits=5, shuffle=True, random_state=3)"
   ]
  },
  {
   "cell_type": "code",
   "execution_count": 6,
   "metadata": {},
   "outputs": [
    {
     "name": "stderr",
     "output_type": "stream",
     "text": [
      "/Users/randy/anaconda3/lib/python3.6/site-packages/sklearn/model_selection/_search.py:761: DeprecationWarning: The grid_scores_ attribute was deprecated in version 0.18 in favor of the more elaborate cv_results_ attribute. The grid_scores_ attribute will not be available from 0.20\n",
      "  DeprecationWarning)\n"
     ]
    },
    {
     "data": {
      "text/plain": [
       "([mean: -0.59826, std: 0.00317, params: {'max_depth': 3, 'min_child_weight': 1},\n",
       "  mean: -0.59807, std: 0.00336, params: {'max_depth': 3, 'min_child_weight': 3},\n",
       "  mean: -0.59797, std: 0.00325, params: {'max_depth': 3, 'min_child_weight': 5},\n",
       "  mean: -0.58862, std: 0.00369, params: {'max_depth': 5, 'min_child_weight': 1},\n",
       "  mean: -0.58870, std: 0.00384, params: {'max_depth': 5, 'min_child_weight': 3},\n",
       "  mean: -0.58846, std: 0.00312, params: {'max_depth': 5, 'min_child_weight': 5},\n",
       "  mean: -0.59189, std: 0.00454, params: {'max_depth': 7, 'min_child_weight': 1},\n",
       "  mean: -0.59055, std: 0.00456, params: {'max_depth': 7, 'min_child_weight': 3},\n",
       "  mean: -0.58993, std: 0.00408, params: {'max_depth': 7, 'min_child_weight': 5},\n",
       "  mean: -0.60964, std: 0.00621, params: {'max_depth': 9, 'min_child_weight': 1},\n",
       "  mean: -0.60261, std: 0.00440, params: {'max_depth': 9, 'min_child_weight': 3},\n",
       "  mean: -0.59946, std: 0.00387, params: {'max_depth': 9, 'min_child_weight': 5}],\n",
       " {'max_depth': 5, 'min_child_weight': 5},\n",
       " -0.58845569521075314)"
      ]
     },
     "execution_count": 6,
     "metadata": {},
     "output_type": "execute_result"
    }
   ],
   "source": [
    "xgb_2_1 = XGBClassifier(\n",
    "        learning_rate =0.1,\n",
    "        n_estimators=272,  #第一轮参数调整得到的n_estimators最优值\n",
    "        max_depth=5,\n",
    "        min_child_weight=1,\n",
    "        gamma=0,\n",
    "        subsample=0.3,\n",
    "        colsample_bytree=0.8,\n",
    "        colsample_bylevel = 0.7,\n",
    "        objective= 'multi:softprob',\n",
    "        seed=3)\n",
    "\n",
    "\n",
    "g_search_2_1 = GridSearchCV(xgb_2_1, param_grid = params_2_1, scoring='neg_log_loss',n_jobs=-1, cv=kfold)\n",
    "g_search_2_1.fit(X_train , y_train)\n",
    "\n",
    "g_search_2_1.grid_scores_, g_search_2_1.best_params_, g_search_2_1.best_score_"
   ]
  },
  {
   "cell_type": "code",
   "execution_count": 7,
   "metadata": {},
   "outputs": [
    {
     "name": "stderr",
     "output_type": "stream",
     "text": [
      "/Users/randy/anaconda3/lib/python3.6/site-packages/sklearn/utils/deprecation.py:122: FutureWarning: You are accessing a training score ('mean_train_score'), which will not be available by default any more in 0.21. If you need training scores, please set return_train_score=True\n",
      "  warnings.warn(*warn_args, **warn_kwargs)\n",
      "/Users/randy/anaconda3/lib/python3.6/site-packages/sklearn/utils/deprecation.py:122: FutureWarning: You are accessing a training score ('split0_train_score'), which will not be available by default any more in 0.21. If you need training scores, please set return_train_score=True\n",
      "  warnings.warn(*warn_args, **warn_kwargs)\n",
      "/Users/randy/anaconda3/lib/python3.6/site-packages/sklearn/utils/deprecation.py:122: FutureWarning: You are accessing a training score ('split1_train_score'), which will not be available by default any more in 0.21. If you need training scores, please set return_train_score=True\n",
      "  warnings.warn(*warn_args, **warn_kwargs)\n",
      "/Users/randy/anaconda3/lib/python3.6/site-packages/sklearn/utils/deprecation.py:122: FutureWarning: You are accessing a training score ('split2_train_score'), which will not be available by default any more in 0.21. If you need training scores, please set return_train_score=True\n",
      "  warnings.warn(*warn_args, **warn_kwargs)\n",
      "/Users/randy/anaconda3/lib/python3.6/site-packages/sklearn/utils/deprecation.py:122: FutureWarning: You are accessing a training score ('split3_train_score'), which will not be available by default any more in 0.21. If you need training scores, please set return_train_score=True\n",
      "  warnings.warn(*warn_args, **warn_kwargs)\n",
      "/Users/randy/anaconda3/lib/python3.6/site-packages/sklearn/utils/deprecation.py:122: FutureWarning: You are accessing a training score ('split4_train_score'), which will not be available by default any more in 0.21. If you need training scores, please set return_train_score=True\n",
      "  warnings.warn(*warn_args, **warn_kwargs)\n",
      "/Users/randy/anaconda3/lib/python3.6/site-packages/sklearn/utils/deprecation.py:122: FutureWarning: You are accessing a training score ('std_train_score'), which will not be available by default any more in 0.21. If you need training scores, please set return_train_score=True\n",
      "  warnings.warn(*warn_args, **warn_kwargs)\n"
     ]
    },
    {
     "data": {
      "text/plain": [
       "{'mean_fit_time': array([ 132.0024332 ,  133.6851553 ,  132.92684135,  200.40651231,\n",
       "         185.33542914,  186.80412784,  291.40852013,  298.2148685 ,\n",
       "         261.6339766 ,  329.62301579,  325.62690716,  305.13964076]),\n",
       " 'mean_score_time': array([ 0.65991979,  0.75407028,  0.74836626,  0.96687489,  0.89775324,\n",
       "         0.99232759,  2.36199474,  2.09008231,  1.49212584,  3.24735889,\n",
       "         2.97242131,  2.11618247]),\n",
       " 'mean_test_score': array([-0.59825711, -0.59807096, -0.59796735, -0.58861642, -0.58870286,\n",
       "        -0.5884557 , -0.59189099, -0.59055468, -0.58993396, -0.60963964,\n",
       "        -0.60260582, -0.59946101]),\n",
       " 'mean_train_score': array([-0.57146799, -0.5723891 , -0.57284365, -0.4981385 , -0.50432542,\n",
       "        -0.50864306, -0.3824983 , -0.40566123, -0.42120016, -0.25024622,\n",
       "        -0.29986298, -0.32997481]),\n",
       " 'param_max_depth': masked_array(data = [3 3 3 5 5 5 7 7 7 9 9 9],\n",
       "              mask = [False False False False False False False False False False False False],\n",
       "        fill_value = ?),\n",
       " 'param_min_child_weight': masked_array(data = [1 3 5 1 3 5 1 3 5 1 3 5],\n",
       "              mask = [False False False False False False False False False False False False],\n",
       "        fill_value = ?),\n",
       " 'params': [{'max_depth': 3, 'min_child_weight': 1},\n",
       "  {'max_depth': 3, 'min_child_weight': 3},\n",
       "  {'max_depth': 3, 'min_child_weight': 5},\n",
       "  {'max_depth': 5, 'min_child_weight': 1},\n",
       "  {'max_depth': 5, 'min_child_weight': 3},\n",
       "  {'max_depth': 5, 'min_child_weight': 5},\n",
       "  {'max_depth': 7, 'min_child_weight': 1},\n",
       "  {'max_depth': 7, 'min_child_weight': 3},\n",
       "  {'max_depth': 7, 'min_child_weight': 5},\n",
       "  {'max_depth': 9, 'min_child_weight': 1},\n",
       "  {'max_depth': 9, 'min_child_weight': 3},\n",
       "  {'max_depth': 9, 'min_child_weight': 5}],\n",
       " 'rank_test_score': array([ 9,  8,  7,  2,  3,  1,  6,  5,  4, 12, 11, 10], dtype=int32),\n",
       " 'split0_test_score': array([-0.59300685, -0.59199926, -0.59261619, -0.58213594, -0.58267783,\n",
       "        -0.58357466, -0.58469871, -0.58180108, -0.58320871, -0.59760573,\n",
       "        -0.59626017, -0.59326611]),\n",
       " 'split0_train_score': array([-0.57293148, -0.574227  , -0.57421485, -0.49961133, -0.5060138 ,\n",
       "        -0.50997281, -0.38387751, -0.40847158, -0.42293339, -0.25129308,\n",
       "        -0.30165586, -0.33004237]),\n",
       " 'split1_test_score': array([-0.59691193, -0.59704985, -0.5963465 , -0.58726137, -0.58599874,\n",
       "        -0.58650773, -0.59114873, -0.59056139, -0.58835317, -0.61106093,\n",
       "        -0.5988464 , -0.59880378]),\n",
       " 'split1_train_score': array([-0.57233857, -0.57326351, -0.57379446, -0.49822307, -0.50431158,\n",
       "        -0.50929268, -0.38201328, -0.40507754, -0.42109047, -0.25066224,\n",
       "        -0.30226635, -0.33069769]),\n",
       " 'split2_test_score': array([-0.59859675, -0.59945262, -0.59841428, -0.5901344 , -0.58981936,\n",
       "        -0.58964266, -0.591135  , -0.59238556, -0.59049857, -0.61083087,\n",
       "        -0.60396739, -0.59978259]),\n",
       " 'split2_train_score': array([-0.57138009, -0.57200999, -0.57238725, -0.4975301 , -0.50403399,\n",
       "        -0.50796695, -0.38153045, -0.40477386, -0.42035469, -0.25036499,\n",
       "        -0.30063025, -0.33197586]),\n",
       " 'split3_test_score': array([-0.60212493, -0.60135523, -0.60139856, -0.59082316, -0.59234682,\n",
       "        -0.58991017, -0.59374996, -0.59372891, -0.59218175, -0.6141623 ,\n",
       "        -0.60800732, -0.60001727]),\n",
       " 'split3_train_score': array([-0.57026139, -0.57130987, -0.57174307, -0.49947536, -0.50452898,\n",
       "        -0.50833871, -0.3808146 , -0.40437823, -0.41970296, -0.24983878,\n",
       "        -0.29916464, -0.32707492]),\n",
       " 'split4_test_score': array([-0.60064583, -0.6004986 , -0.60106214, -0.59272848, -0.59267277,\n",
       "        -0.59264453, -0.59872463, -0.5942976 , -0.59542929, -0.61453985,\n",
       "        -0.60594886, -0.60543712]),\n",
       " 'split4_train_score': array([-0.57042841, -0.57113515, -0.57207865, -0.49585263, -0.50273872,\n",
       "        -0.50764416, -0.38425565, -0.40560492, -0.4219193 , -0.24907199,\n",
       "        -0.29559781, -0.33008323]),\n",
       " 'std_fit_time': array([  1.87023696,   1.49946163,   0.81787913,   5.68924755,\n",
       "          0.54165979,   1.76438678,  11.01662249,   3.58133755,\n",
       "          6.13076991,   1.02113695,   1.36652483,  19.75374704]),\n",
       " 'std_score_time': array([ 0.03855724,  0.09510428,  0.0841021 ,  0.0975809 ,  0.123143  ,\n",
       "         0.10211984,  0.18597108,  0.31181416,  0.06249198,  0.02492383,\n",
       "         0.17050568,  0.7868849 ]),\n",
       " 'std_test_score': array([ 0.00316725,  0.00336151,  0.00325001,  0.0036855 ,  0.00384443,\n",
       "         0.00312049,  0.00453867,  0.00456213,  0.00408151,  0.00620846,\n",
       "         0.00439565,  0.00387115]),\n",
       " 'std_train_score': array([ 0.00104346,  0.00118519,  0.00097868,  0.00138268,  0.00104831,\n",
       "         0.00086462,  0.00134144,  0.0014612 ,  0.00113927,  0.00075205,\n",
       "         0.00237734,  0.0016095 ])}"
      ]
     },
     "execution_count": 7,
     "metadata": {},
     "output_type": "execute_result"
    }
   ],
   "source": [
    "g_search_2_1.cv_results_"
   ]
  },
  {
   "cell_type": "code",
   "execution_count": 8,
   "metadata": {},
   "outputs": [
    {
     "name": "stdout",
     "output_type": "stream",
     "text": [
      "Best: -0.588456 using {'max_depth': 5, 'min_child_weight': 5}\n"
     ]
    },
    {
     "name": "stderr",
     "output_type": "stream",
     "text": [
      "/Users/randy/anaconda3/lib/python3.6/site-packages/sklearn/utils/deprecation.py:122: FutureWarning: You are accessing a training score ('mean_train_score'), which will not be available by default any more in 0.21. If you need training scores, please set return_train_score=True\n",
      "  warnings.warn(*warn_args, **warn_kwargs)\n",
      "/Users/randy/anaconda3/lib/python3.6/site-packages/sklearn/utils/deprecation.py:122: FutureWarning: You are accessing a training score ('std_train_score'), which will not be available by default any more in 0.21. If you need training scores, please set return_train_score=True\n",
      "  warnings.warn(*warn_args, **warn_kwargs)\n",
      "/Users/randy/anaconda3/lib/python3.6/site-packages/sklearn/utils/deprecation.py:122: FutureWarning: You are accessing a training score ('split0_train_score'), which will not be available by default any more in 0.21. If you need training scores, please set return_train_score=True\n",
      "  warnings.warn(*warn_args, **warn_kwargs)\n",
      "/Users/randy/anaconda3/lib/python3.6/site-packages/sklearn/utils/deprecation.py:122: FutureWarning: You are accessing a training score ('split1_train_score'), which will not be available by default any more in 0.21. If you need training scores, please set return_train_score=True\n",
      "  warnings.warn(*warn_args, **warn_kwargs)\n",
      "/Users/randy/anaconda3/lib/python3.6/site-packages/sklearn/utils/deprecation.py:122: FutureWarning: You are accessing a training score ('split2_train_score'), which will not be available by default any more in 0.21. If you need training scores, please set return_train_score=True\n",
      "  warnings.warn(*warn_args, **warn_kwargs)\n",
      "/Users/randy/anaconda3/lib/python3.6/site-packages/sklearn/utils/deprecation.py:122: FutureWarning: You are accessing a training score ('split3_train_score'), which will not be available by default any more in 0.21. If you need training scores, please set return_train_score=True\n",
      "  warnings.warn(*warn_args, **warn_kwargs)\n",
      "/Users/randy/anaconda3/lib/python3.6/site-packages/sklearn/utils/deprecation.py:122: FutureWarning: You are accessing a training score ('split4_train_score'), which will not be available by default any more in 0.21. If you need training scores, please set return_train_score=True\n",
      "  warnings.warn(*warn_args, **warn_kwargs)\n"
     ]
    }
   ],
   "source": [
    "# summarize results\n",
    "print(\"Best: %f using %s\" % (g_search_2_1.best_score_, g_search_2_1.best_params_))\n",
    "test_means = g_search_2_1.cv_results_[ 'mean_test_score' ]\n",
    "test_stds = g_search_2_1.cv_results_[ 'std_test_score' ]\n",
    "train_means = g_search_2_1.cv_results_[ 'mean_train_score' ]\n",
    "train_stds = g_search_2_1.cv_results_[ 'std_train_score' ]\n",
    "\n",
    "pd.DataFrame(g_search_2_1.cv_results_).to_csv('maxdepth_min_child_weights_1.csv')"
   ]
  },
  {
   "cell_type": "code",
   "execution_count": 10,
   "metadata": {},
   "outputs": [
    {
     "data": {
      "text/plain": [
       "array([[-0.57146799, -0.5723891 , -0.57284365],\n",
       "       [-0.4981385 , -0.50432542, -0.50864306],\n",
       "       [-0.3824983 , -0.40566123, -0.42120016],\n",
       "       [-0.25024622, -0.29986298, -0.32997481]])"
      ]
     },
     "execution_count": 10,
     "metadata": {},
     "output_type": "execute_result"
    }
   ],
   "source": [
    "# plot results\n",
    "test_scores = np.array(test_means).reshape(len(max_depth), len(min_child_weight))\n",
    "train_scores = np.array(train_means).reshape(len(max_depth), len(min_child_weight))\n",
    "\n",
    "train_scores"
   ]
  },
  {
   "cell_type": "code",
   "execution_count": 11,
   "metadata": {},
   "outputs": [
    {
     "data": {
      "text/plain": [
       "array([[-0.59825711, -0.59807096, -0.59796735],\n",
       "       [-0.58861642, -0.58870286, -0.5884557 ],\n",
       "       [-0.59189099, -0.59055468, -0.58993396],\n",
       "       [-0.60963964, -0.60260582, -0.59946101]])"
      ]
     },
     "execution_count": 11,
     "metadata": {},
     "output_type": "execute_result"
    }
   ],
   "source": [
    "test_scores"
   ]
  },
  {
   "cell_type": "code",
   "execution_count": 14,
   "metadata": {},
   "outputs": [
    {
     "data": {
      "text/plain": [
       "<matplotlib.legend.Legend at 0x1a18814c88>"
      ]
     },
     "execution_count": 14,
     "metadata": {},
     "output_type": "execute_result"
    },
    {
     "data": {
      "image/png": "[encoded data removed]",
      "text/plain": [
       "<matplotlib.figure.Figure at 0x1a18814cc0>"
      ]
     },
     "metadata": {},
     "output_type": "display_data"
    }
   ],
   "source": [
    "for i, value in enumerate(max_depth):\n",
    "    plt.plot(min_child_weight, -test_scores[i], label=\"max_depth_test:\" + str(value))\n",
    "    \n",
    "plt.xlabel(\"min_child_weight\")\n",
    "plt.ylabel(\"logloss\")\n",
    "plt.legend()"
   ]
  },
  {
   "cell_type": "markdown",
   "metadata": {},
   "source": [
    "可以看到max_depth在5附近就是最好的了，下一步可以在5范围内再找找点\n",
    "\n",
    "而min_child_weight还可以往上再走一下"
   ]
  },
  {
   "cell_type": "code",
   "execution_count": null,
   "metadata": {
    "collapsed": true
   },
   "outputs": [],
   "source": []
  }
 ],
 "metadata": {
  "kernelspec": {
   "display_name": "Python 3",
   "language": "python",
   "name": "python3"
  },
  "language_info": {
   "codemirror_mode": {
    "name": "ipython",
    "version": 3
   },
   "file_extension": ".py",
   "mimetype": "text/x-python",
   "name": "python",
   "nbconvert_exporter": "python",
   "pygments_lexer": "ipython3",
   "version": "3.6.3"
  }
 },
 "nbformat": 4,
 "nbformat_minor": 2
}
